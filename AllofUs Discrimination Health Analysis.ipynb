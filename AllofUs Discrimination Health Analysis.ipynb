{
 "cells": [
  {
   "cell_type": "code",
   "execution_count": null,
   "metadata": {},
   "outputs": [],
   "source": [
    "import os\n",
    "import pandas as pd"
   ]
  },
  {
   "cell_type": "code",
   "execution_count": null,
   "metadata": {},
   "outputs": [],
   "source": [
    "# This snippet assumes you run setup first\n",
    "\n",
    "# This code copies file in your Google Bucket and loads it into a dataframe\n",
    "\n",
    "# Replace 'test.csv' with THE NAME of the file you're going to download from the bucket (don't delete the quotation marks)\n",
    "name_of_file_in_bucket = 'merged_stigmahealthsurvey_demog.csv'\n",
    "\n",
    "########################################################################\n",
    "##\n",
    "################# DON'T CHANGE FROM HERE ###############################\n",
    "##\n",
    "########################################################################\n",
    "\n",
    "# get the bucket name\n",
    "my_bucket = os.getenv('WORKSPACE_BUCKET')\n",
    "\n",
    "# copy csv file from the bucket to the current working space\n",
    "os.system(f\"gsutil cp '{my_bucket}/data/{name_of_file_in_bucket}' .\")\n",
    "\n",
    "print(f'[INFO] {name_of_file_in_bucket} is successfully downloaded into your working space')\n",
    "# save dataframe in a csv file in the same workspace as the notebook\n",
    "data = pd.read_csv(name_of_file_in_bucket)\n",
    "data.head()"
   ]
  },
  {
   "cell_type": "code",
   "execution_count": null,
   "metadata": {},
   "outputs": [],
   "source": [
    "list(data.columns)"
   ]
  },
  {
   "cell_type": "code",
   "execution_count": null,
   "metadata": {},
   "outputs": [],
   "source": [
    "data.shape"
   ]
  },
  {
   "cell_type": "code",
   "execution_count": null,
   "metadata": {},
   "outputs": [],
   "source": [
    "data = data.fillna(\"Skip\")\n",
    "data = data.replace(\"PMI: Skip\", \"Skip\")\n",
    "data.head()"
   ]
  },
  {
   "cell_type": "code",
   "execution_count": null,
   "metadata": {},
   "outputs": [],
   "source": [
    "overall_discrimination = data[['person_id',\n",
    "                               'gender', \n",
    "                               'race', \n",
    "                               'ethnicity',\n",
    "                               'sex_at_birth', \n",
    "                               'date_of_birth', \n",
    "                               'Overall Health: General Health',\n",
    "                               'Overall Health: General Mental Health',\n",
    "                               'Overall Health: General Physical Health',\n",
    "                               'Overall Health: General Quality',\n",
    "                               'In your day-to-day life, how often are you called names or insulted?',\n",
    "                               'In your day-to-day life, how often are you threatened or harassed?',\n",
    "                               'In your day-to-day life, how often are you treated with less courtesy than other people?',\n",
    "                               'In your day-to-day life, how often are you treated with less respect than other people?',\n",
    "                               'In your day-to-day life, how often do people act as if they are afraid of you?',\n",
    "                               'In your day-to-day life, how often do people act as if they think you are dishonest?',\n",
    "                               'In your day-to-day life, how often do people act as if they think you are not smart?',\n",
    "                               \"In your day-to-day life, how often do people act as if they're better than you are?\",\n",
    "                               'In your day-to-day life, how often do you receive poorer service than other people at restaurants or stores?']]\n",
    "overall_discrimination.head()"
   ]
  },
  {
   "cell_type": "code",
   "execution_count": null,
   "metadata": {},
   "outputs": [],
   "source": [
    "from datetime import date, datetime\n",
    "today = date.today()\n",
    "\n",
    "ages = []\n",
    "overall_discrimination['date_of_birth'] = pd.to_datetime(overall_discrimination['date_of_birth'])\n",
    "for i in range(len(overall_discrimination)):\n",
    "    birthdate = overall_discrimination.loc[i, 'date_of_birth']\n",
    "    age = today.year - birthdate.year - ((today.month, today.day) < (birthdate.month, birthdate.day))\n",
    "    ages.append(age)\n",
    "overall_discrimination.insert(6, 'age', ages)\n",
    "\n",
    "overall_discrimination.head()"
   ]
  },
  {
   "cell_type": "code",
   "execution_count": null,
   "metadata": {},
   "outputs": [],
   "source": [
    "overall_no_skip = overall_discrimination[(overall_discrimination['Overall Health: General Health'] != 'Skip') & \n",
    "                                         (overall_discrimination['Overall Health: General Mental Health'] != 'Skip') &\n",
    "                                         (overall_discrimination['Overall Health: General Physical Health'] != 'Skip') & \n",
    "                                         (overall_discrimination['Overall Health: General Quality'] != 'Skip')]\n",
    "overall_no_skip.shape"
   ]
  },
  {
   "cell_type": "code",
   "execution_count": null,
   "metadata": {},
   "outputs": [],
   "source": [
    "select_no_skip = overall_no_skip[(overall_no_skip['In your day-to-day life, how often are you called names or insulted?'] != 'Skip') & \n",
    "                                 (overall_no_skip['In your day-to-day life, how often are you threatened or harassed?'] != 'Skip') &\n",
    "                                 (overall_no_skip['In your day-to-day life, how often are you treated with less courtesy than other people?'] != 'Skip') & \n",
    "                                 (overall_no_skip['In your day-to-day life, how often are you treated with less respect than other people?'] != 'Skip') & \n",
    "                                 (overall_no_skip['In your day-to-day life, how often do people act as if they are afraid of you?'] != 'Skip') & \n",
    "                                 (overall_no_skip['In your day-to-day life, how often do people act as if they think you are dishonest?'] != 'Skip') & \n",
    "                                 (overall_no_skip['In your day-to-day life, how often do people act as if they think you are not smart?'] != 'Skip') & \n",
    "                                 (overall_no_skip[\"In your day-to-day life, how often do people act as if they're better than you are?\"] != 'Skip') & \n",
    "                                 (overall_no_skip['In your day-to-day life, how often do you receive poorer service than other people at restaurants or stores?'] != 'Skip')]\n",
    "select_no_skip = select_no_skip.reset_index(drop=True)\n",
    "select_no_skip.shape"
   ]
  },
  {
   "cell_type": "code",
   "execution_count": null,
   "metadata": {},
   "outputs": [],
   "source": [
    "select_no_skip_score = select_no_skip.replace('Never', 0)\n",
    "select_no_skip_score = select_no_skip_score.replace('Less than once a year', 1)\n",
    "select_no_skip_score = select_no_skip_score.replace('A few times a year', 2)\n",
    "select_no_skip_score = select_no_skip_score.replace('A few times a month', 3)\n",
    "select_no_skip_score = select_no_skip_score.replace('At least once a week', 4)\n",
    "select_no_skip_score = select_no_skip_score.replace('Almost everyday', 5)\n",
    "select_no_skip_score.head()"
   ]
  },
  {
   "cell_type": "code",
   "execution_count": null,
   "metadata": {},
   "outputs": [],
   "source": [
    "select_no_skip_score = select_no_skip_score.replace('General Health: Poor', 0)\n",
    "select_no_skip_score = select_no_skip_score.replace('General Health: Fair', 1)\n",
    "select_no_skip_score = select_no_skip_score.replace('General Health: Good', 2)\n",
    "select_no_skip_score = select_no_skip_score.replace('General Health: Very Good', 3)\n",
    "select_no_skip_score = select_no_skip_score.replace('General Health: Excellent', 4)\n",
    "select_no_skip_score = select_no_skip_score.replace('General Mental Health: Poor', 0)\n",
    "select_no_skip_score = select_no_skip_score.replace('General Mental Health: Fair', 1)\n",
    "select_no_skip_score = select_no_skip_score.replace('General Mental Health: Good', 2)\n",
    "select_no_skip_score = select_no_skip_score.replace('General Mental Health: Very Good', 3)\n",
    "select_no_skip_score = select_no_skip_score.replace('General Mental Health: Excellent', 4)\n",
    "select_no_skip_score = select_no_skip_score.replace('General Mental Health: Excllent', 4)\n",
    "select_no_skip_score = select_no_skip_score.replace('General Physical Health: Poor', 0)\n",
    "select_no_skip_score = select_no_skip_score.replace('General Physical Health: Fair', 1)\n",
    "select_no_skip_score = select_no_skip_score.replace('General Physical Health: Good', 2)\n",
    "select_no_skip_score = select_no_skip_score.replace('General Physical Health: Very Good', 3)\n",
    "select_no_skip_score = select_no_skip_score.replace('General Physical Health: Excellent', 4)\n",
    "select_no_skip_score = select_no_skip_score.replace('General Quality: Poor', 0)\n",
    "select_no_skip_score = select_no_skip_score.replace('General Quality: Fair', 1)\n",
    "select_no_skip_score = select_no_skip_score.replace('General Quality: Good', 2)\n",
    "select_no_skip_score = select_no_skip_score.replace('General Quality: Very Good', 3)\n",
    "select_no_skip_score = select_no_skip_score.replace('General Quality: Excellent', 4)\n",
    "select_no_skip_score.head()"
   ]
  },
  {
   "cell_type": "markdown",
   "metadata": {},
   "source": [
    "### Score Distribution"
   ]
  },
  {
   "cell_type": "code",
   "execution_count": null,
   "metadata": {},
   "outputs": [],
   "source": [
    "import seaborn as sns\n",
    "import matplotlib.pyplot as plt\n",
    "sns.set_theme(style=\"whitegrid\")"
   ]
  },
  {
   "cell_type": "code",
   "execution_count": null,
   "metadata": {},
   "outputs": [],
   "source": [
    "ax = sns.histplot(x='age', data=select_no_skip_score, binwidth=5)"
   ]
  },
  {
   "cell_type": "code",
   "execution_count": null,
   "metadata": {},
   "outputs": [],
   "source": [
    "ax = sns.countplot(x='Overall Health: General Health', data=select_no_skip_score)"
   ]
  },
  {
   "cell_type": "code",
   "execution_count": null,
   "metadata": {},
   "outputs": [],
   "source": [
    "ax = sns.countplot(x='Overall Health: General Mental Health', data=select_no_skip_score)"
   ]
  },
  {
   "cell_type": "code",
   "execution_count": null,
   "metadata": {},
   "outputs": [],
   "source": [
    "ax = sns.countplot(x='Overall Health: General Physical Health', data=select_no_skip_score)"
   ]
  },
  {
   "cell_type": "code",
   "execution_count": null,
   "metadata": {},
   "outputs": [],
   "source": [
    "ax = sns.countplot(x='Overall Health: General Quality', data=select_no_skip_score)"
   ]
  },
  {
   "cell_type": "code",
   "execution_count": null,
   "metadata": {},
   "outputs": [],
   "source": [
    "ax = sns.countplot(x='In your day-to-day life, how often are you called names or insulted?', data=select_no_skip_score)"
   ]
  },
  {
   "cell_type": "code",
   "execution_count": null,
   "metadata": {},
   "outputs": [],
   "source": [
    "ax = sns.countplot(x='In your day-to-day life, how often are you threatened or harassed?', data=select_no_skip_score)"
   ]
  },
  {
   "cell_type": "code",
   "execution_count": null,
   "metadata": {},
   "outputs": [],
   "source": [
    "ax = sns.countplot(x='In your day-to-day life, how often are you treated with less courtesy than other people?', data=select_no_skip_score)"
   ]
  },
  {
   "cell_type": "code",
   "execution_count": null,
   "metadata": {},
   "outputs": [],
   "source": [
    "ax = sns.countplot(x='In your day-to-day life, how often are you treated with less respect than other people?', data=select_no_skip_score)"
   ]
  },
  {
   "cell_type": "code",
   "execution_count": null,
   "metadata": {},
   "outputs": [],
   "source": [
    "ax = sns.countplot(x='In your day-to-day life, how often do people act as if they are afraid of you?', data=select_no_skip_score)"
   ]
  },
  {
   "cell_type": "code",
   "execution_count": null,
   "metadata": {},
   "outputs": [],
   "source": [
    "ax = sns.countplot(x='In your day-to-day life, how often do people act as if they think you are dishonest?', data=select_no_skip_score)"
   ]
  },
  {
   "cell_type": "code",
   "execution_count": null,
   "metadata": {},
   "outputs": [],
   "source": [
    "ax = sns.countplot(x='In your day-to-day life, how often do people act as if they think you are not smart?', data=select_no_skip_score)"
   ]
  },
  {
   "cell_type": "code",
   "execution_count": null,
   "metadata": {},
   "outputs": [],
   "source": [
    "ax = sns.countplot(x=\"In your day-to-day life, how often do people act as if they're better than you are?\", data=select_no_skip_score)"
   ]
  },
  {
   "cell_type": "code",
   "execution_count": null,
   "metadata": {},
   "outputs": [],
   "source": [
    "ax = sns.countplot(x='In your day-to-day life, how often do you receive poorer service than other people at restaurants or stores?', data=select_no_skip_score)"
   ]
  },
  {
   "cell_type": "code",
   "execution_count": null,
   "metadata": {},
   "outputs": [],
   "source": [
    "pd.crosstab(select_no_skip_score['gender'], select_no_skip_score['race'], margins=True, normalize='index')"
   ]
  },
  {
   "cell_type": "code",
   "execution_count": null,
   "metadata": {},
   "outputs": [],
   "source": [
    "combined_discrimination_score = []\n",
    "\n",
    "for i in range(len(select_no_skip_score)):\n",
    "    _sum = 0\n",
    "    for j in range(9, len(select_no_skip_score.columns)):\n",
    "        _sum += select_no_skip_score.iloc[i, j]\n",
    "    combined_discrimination_score.append(_sum)"
   ]
  },
  {
   "cell_type": "code",
   "execution_count": null,
   "metadata": {},
   "outputs": [],
   "source": [
    "select_no_skip_score_combine = select_no_skip_score[['person_id',\n",
    "                               'gender', \n",
    "                               'race', \n",
    "                               'ethnicity',\n",
    "                               'sex_at_birth', \n",
    "                                'age', \n",
    "                               'Overall Health: General Health',\n",
    "                               'Overall Health: General Mental Health',\n",
    "                               'Overall Health: General Physical Health',\n",
    "                               'Overall Health: General Quality']]\n",
    "select_no_skip_score_combine.insert(len(select_no_skip_score_combine.columns), 'Combined Discrimination Score', combined_discrimination_score)\n",
    "select_no_skip_score_combine.head()"
   ]
  },
  {
   "cell_type": "code",
   "execution_count": null,
   "metadata": {},
   "outputs": [],
   "source": [
    "select_no_skip_score_combine.describe()"
   ]
  },
  {
   "cell_type": "code",
   "execution_count": null,
   "metadata": {},
   "outputs": [],
   "source": [
    "ax = sns.histplot(x='Combined Discrimination Score', data=select_no_skip_score_combine, binwidth=3)"
   ]
  },
  {
   "cell_type": "markdown",
   "metadata": {},
   "source": [
    "### Overall Health vs. Combined Discrimination Score"
   ]
  },
  {
   "cell_type": "code",
   "execution_count": null,
   "metadata": {},
   "outputs": [],
   "source": [
    "ax = sns.scatterplot(x='Overall Health: General Health', y='Combined Discrimination Score', data=select_no_skip_score_combine)"
   ]
  },
  {
   "cell_type": "code",
   "execution_count": null,
   "metadata": {},
   "outputs": [],
   "source": [
    "from scipy.stats import pearsonr\n",
    "import numpy as np"
   ]
  },
  {
   "cell_type": "code",
   "execution_count": null,
   "metadata": {},
   "outputs": [],
   "source": [
    "x = select_no_skip_score_combine['Overall Health: General Health'].tolist()\n",
    "y = select_no_skip_score_combine['Combined Discrimination Score'].tolist()\n",
    "pearsonr(x, y)"
   ]
  },
  {
   "cell_type": "code",
   "execution_count": null,
   "metadata": {},
   "outputs": [],
   "source": [
    "ax = sns.scatterplot(x='Overall Health: General Mental Health', y='Combined Discrimination Score', data=select_no_skip_score_combine)"
   ]
  },
  {
   "cell_type": "code",
   "execution_count": null,
   "metadata": {},
   "outputs": [],
   "source": [
    "x = select_no_skip_score_combine['Overall Health: General Mental Health'].tolist()\n",
    "y = select_no_skip_score_combine['Combined Discrimination Score'].tolist()\n",
    "pearsonr(x, y)"
   ]
  },
  {
   "cell_type": "code",
   "execution_count": null,
   "metadata": {},
   "outputs": [],
   "source": [
    "ax = sns.scatterplot(x='Overall Health: General Physical Health', y='Combined Discrimination Score', data=select_no_skip_score_combine)"
   ]
  },
  {
   "cell_type": "code",
   "execution_count": null,
   "metadata": {},
   "outputs": [],
   "source": [
    "x = select_no_skip_score_combine['Overall Health: General Physical Health'].tolist()\n",
    "y = select_no_skip_score_combine['Combined Discrimination Score'].tolist()\n",
    "pearsonr(x, y)"
   ]
  },
  {
   "cell_type": "code",
   "execution_count": null,
   "metadata": {},
   "outputs": [],
   "source": [
    "ax = sns.scatterplot(x='Overall Health: General Quality', y='Combined Discrimination Score', data=select_no_skip_score_combine)"
   ]
  },
  {
   "cell_type": "code",
   "execution_count": null,
   "metadata": {},
   "outputs": [],
   "source": [
    "x = select_no_skip_score_combine['Overall Health: General Quality'].tolist()\n",
    "y = select_no_skip_score_combine['Combined Discrimination Score'].tolist()\n",
    "pearsonr(x, y)"
   ]
  },
  {
   "cell_type": "markdown",
   "metadata": {},
   "source": [
    "### Overall Health vs. Combiend Discrimination Score over Race"
   ]
  },
  {
   "cell_type": "code",
   "execution_count": null,
   "metadata": {},
   "outputs": [],
   "source": [
    "ax = sns.scatterplot(x='Overall Health: General Health', y='Combined Discrimination Score', hue='race', data=select_no_skip_score_combine)\n",
    "plt.legend(bbox_to_anchor=(1.02, 1), loc='upper left', borderaxespad=0)"
   ]
  },
  {
   "cell_type": "code",
   "execution_count": null,
   "metadata": {},
   "outputs": [],
   "source": [
    "ax = sns.scatterplot(x='Overall Health: General Mental Health', y='Combined Discrimination Score', hue='race', data=select_no_skip_score_combine)\n",
    "plt.legend(bbox_to_anchor=(1.02, 1), loc='upper left', borderaxespad=0)"
   ]
  },
  {
   "cell_type": "code",
   "execution_count": null,
   "metadata": {},
   "outputs": [],
   "source": [
    "ax = sns.scatterplot(x='Overall Health: General Physical Health', y='Combined Discrimination Score', hue='race', data=select_no_skip_score_combine)\n",
    "plt.legend(bbox_to_anchor=(1.02, 1), loc='upper left', borderaxespad=0)"
   ]
  },
  {
   "cell_type": "code",
   "execution_count": null,
   "metadata": {},
   "outputs": [],
   "source": [
    "ax = sns.scatterplot(x='Overall Health: General Quality', y='Combined Discrimination Score', hue='race', data=select_no_skip_score_combine)\n",
    "plt.legend(bbox_to_anchor=(1.02, 1), loc='upper left', borderaxespad=0)"
   ]
  },
  {
   "cell_type": "code",
   "execution_count": null,
   "metadata": {},
   "outputs": [],
   "source": [
    "select_no_skip_score_combine_white = select_no_skip_score_combine[select_no_skip_score_combine['race'] == 'White']\n",
    "select_no_skip_score_combine_white.describe()"
   ]
  },
  {
   "cell_type": "code",
   "execution_count": null,
   "metadata": {},
   "outputs": [],
   "source": [
    "select_no_skip_score_combine_asian = select_no_skip_score_combine[select_no_skip_score_combine['race'] == 'Asian']\n",
    "select_no_skip_score_combine_asian.describe()"
   ]
  },
  {
   "cell_type": "code",
   "execution_count": null,
   "metadata": {},
   "outputs": [],
   "source": [
    "select_no_skip_score_combine_african = select_no_skip_score_combine[select_no_skip_score_combine['race'] == 'Black or African American']\n",
    "select_no_skip_score_combine_african.describe()"
   ]
  },
  {
   "cell_type": "code",
   "execution_count": null,
   "metadata": {},
   "outputs": [],
   "source": [
    "select_no_skip_score_combine_other = select_no_skip_score_combine[(select_no_skip_score_combine['race'] != 'White') & \n",
    "                                                                  (select_no_skip_score_combine['race'] != 'Asian') & \n",
    "                                                                  (select_no_skip_score_combine['race'] != 'Black or African American') & \n",
    "                                                                  (select_no_skip_score_combine['race'] != 'Skip')]\n",
    "select_no_skip_score_combine_other.describe()"
   ]
  },
  {
   "cell_type": "code",
   "execution_count": null,
   "metadata": {},
   "outputs": [],
   "source": [
    "select_no_skip_score_combine_skip = select_no_skip_score_combine[select_no_skip_score_combine['race'] == 'Skip']\n",
    "select_no_skip_score_combine_skip.describe()"
   ]
  },
  {
   "cell_type": "markdown",
   "metadata": {},
   "source": [
    "### Overall Health vs. Combined Discrimination Score over Gender"
   ]
  },
  {
   "cell_type": "code",
   "execution_count": null,
   "metadata": {},
   "outputs": [],
   "source": [
    "ax = sns.scatterplot(x='Overall Health: General Health', y='Combined Discrimination Score', hue='gender', data=select_no_skip_score_combine)\n",
    "plt.legend(bbox_to_anchor=(1.02, 1), loc='upper left', borderaxespad=0)"
   ]
  },
  {
   "cell_type": "code",
   "execution_count": null,
   "metadata": {},
   "outputs": [],
   "source": [
    "ax = sns.scatterplot(x='Overall Health: General Mental Health', y='Combined Discrimination Score', hue='gender', data=select_no_skip_score_combine)\n",
    "plt.legend(bbox_to_anchor=(1.02, 1), loc='upper left', borderaxespad=0)"
   ]
  },
  {
   "cell_type": "code",
   "execution_count": null,
   "metadata": {},
   "outputs": [],
   "source": [
    "ax = sns.scatterplot(x='Overall Health: General Physical Health', y='Combined Discrimination Score', hue='gender', data=select_no_skip_score_combine)\n",
    "plt.legend(bbox_to_anchor=(1.02, 1), loc='upper left', borderaxespad=0)"
   ]
  },
  {
   "cell_type": "code",
   "execution_count": null,
   "metadata": {},
   "outputs": [],
   "source": [
    "ax = sns.scatterplot(x='Overall Health: General Quality', y='Combined Discrimination Score', hue='gender', data=select_no_skip_score_combine)\n",
    "plt.legend(bbox_to_anchor=(1.02, 1), loc='upper left', borderaxespad=0)"
   ]
  },
  {
   "cell_type": "code",
   "execution_count": null,
   "metadata": {},
   "outputs": [],
   "source": [
    "select_no_skip_score_combine_male = select_no_skip_score_combine[select_no_skip_score_combine['gender'] == 'Male']\n",
    "select_no_skip_score_combine_male.head()"
   ]
  },
  {
   "cell_type": "code",
   "execution_count": null,
   "metadata": {},
   "outputs": [],
   "source": [
    "select_no_skip_score_combine_male.describe()"
   ]
  },
  {
   "cell_type": "code",
   "execution_count": null,
   "metadata": {},
   "outputs": [],
   "source": [
    "ax = sns.scatterplot(x='Overall Health: General Health', y='Combined Discrimination Score', data=select_no_skip_score_combine_male)"
   ]
  },
  {
   "cell_type": "code",
   "execution_count": null,
   "metadata": {},
   "outputs": [],
   "source": [
    "ax = sns.scatterplot(x='Overall Health: General Mental Health', y='Combined Discrimination Score', data=select_no_skip_score_combine_male)"
   ]
  },
  {
   "cell_type": "code",
   "execution_count": null,
   "metadata": {},
   "outputs": [],
   "source": [
    "x = select_no_skip_score_combine_male['Overall Health: General Health'].tolist()\n",
    "y = select_no_skip_score_combine_male['Combined Discrimination Score'].tolist()\n",
    "pearsonr(x, y)"
   ]
  },
  {
   "cell_type": "code",
   "execution_count": null,
   "metadata": {},
   "outputs": [],
   "source": [
    "x = select_no_skip_score_combine_male['Overall Health: General Mental Health'].tolist()\n",
    "y = select_no_skip_score_combine_male['Combined Discrimination Score'].tolist()\n",
    "pearsonr(x, y)"
   ]
  },
  {
   "cell_type": "code",
   "execution_count": null,
   "metadata": {},
   "outputs": [],
   "source": [
    "x = select_no_skip_score_combine_male['Overall Health: General Physical Health'].tolist()\n",
    "y = select_no_skip_score_combine_male['Combined Discrimination Score'].tolist()\n",
    "pearsonr(x, y)"
   ]
  },
  {
   "cell_type": "code",
   "execution_count": null,
   "metadata": {},
   "outputs": [],
   "source": [
    "x = select_no_skip_score_combine_male['Overall Health: General Quality'].tolist()\n",
    "y = select_no_skip_score_combine_male['Combined Discrimination Score'].tolist()\n",
    "pearsonr(x, y)"
   ]
  },
  {
   "cell_type": "code",
   "execution_count": null,
   "metadata": {},
   "outputs": [],
   "source": [
    "select_no_skip_score_combine_female = select_no_skip_score_combine[select_no_skip_score_combine['gender'] == 'Female']\n",
    "select_no_skip_score_combine_female.head()"
   ]
  },
  {
   "cell_type": "code",
   "execution_count": null,
   "metadata": {},
   "outputs": [],
   "source": [
    "select_no_skip_score_combine_female.describe()"
   ]
  },
  {
   "cell_type": "code",
   "execution_count": null,
   "metadata": {},
   "outputs": [],
   "source": [
    "ax = sns.scatterplot(x='Overall Health: General Health', y='Combined Discrimination Score', data=select_no_skip_score_combine_female)"
   ]
  },
  {
   "cell_type": "code",
   "execution_count": null,
   "metadata": {},
   "outputs": [],
   "source": [
    "ax = sns.scatterplot(x='Overall Health: General Mental Health', y='Combined Discrimination Score', data=select_no_skip_score_combine_female)"
   ]
  },
  {
   "cell_type": "code",
   "execution_count": null,
   "metadata": {},
   "outputs": [],
   "source": [
    "x = select_no_skip_score_combine_female['Overall Health: General Health'].tolist()\n",
    "y = select_no_skip_score_combine_female['Combined Discrimination Score'].tolist()\n",
    "pearsonr(x, y)"
   ]
  },
  {
   "cell_type": "code",
   "execution_count": null,
   "metadata": {},
   "outputs": [],
   "source": [
    "x = select_no_skip_score_combine_female['Overall Health: General Mental Health'].tolist()\n",
    "y = select_no_skip_score_combine_female['Combined Discrimination Score'].tolist()\n",
    "pearsonr(x, y)"
   ]
  },
  {
   "cell_type": "code",
   "execution_count": null,
   "metadata": {},
   "outputs": [],
   "source": [
    "x = select_no_skip_score_combine_female['Overall Health: General Physical Health'].tolist()\n",
    "y = select_no_skip_score_combine_female['Combined Discrimination Score'].tolist()\n",
    "pearsonr(x, y)"
   ]
  },
  {
   "cell_type": "code",
   "execution_count": null,
   "metadata": {},
   "outputs": [],
   "source": [
    "x = select_no_skip_score_combine_female['Overall Health: General Quality'].tolist()\n",
    "y = select_no_skip_score_combine_female['Combined Discrimination Score'].tolist()\n",
    "pearsonr(x, y)"
   ]
  },
  {
   "cell_type": "code",
   "execution_count": null,
   "metadata": {},
   "outputs": [],
   "source": [
    "select_no_skip_score_combine_no = select_no_skip_score_combine[select_no_skip_score_combine['gender'] == 'Not man only, not woman only, prefer not to answer, or skipped']\n",
    "select_no_skip_score_combine_no.head()"
   ]
  },
  {
   "cell_type": "code",
   "execution_count": null,
   "metadata": {},
   "outputs": [],
   "source": [
    "select_no_skip_score_combine_no.describe()"
   ]
  },
  {
   "cell_type": "code",
   "execution_count": null,
   "metadata": {},
   "outputs": [],
   "source": [
    "ax = sns.scatterplot(x='Overall Health: General Health', y='Combined Discrimination Score', data=select_no_skip_score_combine_no)"
   ]
  },
  {
   "cell_type": "code",
   "execution_count": null,
   "metadata": {},
   "outputs": [],
   "source": [
    "ax = sns.scatterplot(x='Overall Health: General Mental Health', y='Combined Discrimination Score', data=select_no_skip_score_combine_no)"
   ]
  },
  {
   "cell_type": "code",
   "execution_count": null,
   "metadata": {},
   "outputs": [],
   "source": [
    "x = select_no_skip_score_combine_no['Overall Health: General Health'].tolist()\n",
    "y = select_no_skip_score_combine_no['Combined Discrimination Score'].tolist()\n",
    "pearsonr(x, y)"
   ]
  },
  {
   "cell_type": "code",
   "execution_count": null,
   "metadata": {},
   "outputs": [],
   "source": [
    "x = select_no_skip_score_combine_no['Overall Health: General Mental Health'].tolist()\n",
    "y = select_no_skip_score_combine_no['Combined Discrimination Score'].tolist()\n",
    "pearsonr(x, y)"
   ]
  },
  {
   "cell_type": "code",
   "execution_count": null,
   "metadata": {},
   "outputs": [],
   "source": [
    "x = select_no_skip_score_combine_no['Overall Health: General Physical Health'].tolist()\n",
    "y = select_no_skip_score_combine_no['Combined Discrimination Score'].tolist()\n",
    "pearsonr(x, y)"
   ]
  },
  {
   "cell_type": "code",
   "execution_count": null,
   "metadata": {},
   "outputs": [],
   "source": [
    "x = select_no_skip_score_combine_no['Overall Health: General Quality'].tolist()\n",
    "y = select_no_skip_score_combine_no['Combined Discrimination Score'].tolist()\n",
    "pearsonr(x, y)"
   ]
  },
  {
   "cell_type": "markdown",
   "metadata": {},
   "source": [
    "### Overall Health vs. Combined Discrimination Score over age"
   ]
  },
  {
   "cell_type": "code",
   "execution_count": null,
   "metadata": {},
   "outputs": [],
   "source": [
    "ax = sns.scatterplot(x='age', y='Combined Discrimination Score', data=select_no_skip_score_combine)"
   ]
  },
  {
   "cell_type": "code",
   "execution_count": null,
   "metadata": {},
   "outputs": [],
   "source": [
    "ax = sns.scatterplot(x='age', y='Overall Health: General Health', data=select_no_skip_score_combine)"
   ]
  },
  {
   "cell_type": "code",
   "execution_count": null,
   "metadata": {},
   "outputs": [],
   "source": []
  }
 ],
 "metadata": {
  "kernelspec": {
   "display_name": "med264",
   "language": "python",
   "name": "med264"
  },
  "language_info": {
   "codemirror_mode": {
    "name": "ipython",
    "version": 3
   },
   "file_extension": ".py",
   "mimetype": "text/x-python",
   "name": "python",
   "nbconvert_exporter": "python",
   "pygments_lexer": "ipython3",
   "version": "3.8.13"
  }
 },
 "nbformat": 4,
 "nbformat_minor": 4
}
